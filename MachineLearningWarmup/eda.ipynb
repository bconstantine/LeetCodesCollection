{
 "cells": [
  {
   "cell_type": "code",
   "execution_count": 1,
   "metadata": {},
   "outputs": [
    {
     "name": "stdout",
     "output_type": "stream",
     "text": [
      "   Id  SepalLengthCm  SepalWidthCm  PetalLengthCm  PetalWidthCm      Species\n",
      "0   1            5.1           3.5            1.4           0.2  Iris-setosa\n",
      "1   2            4.9           3.0            1.4           0.2  Iris-setosa\n",
      "2   3            4.7           3.2            1.3           0.2  Iris-setosa\n",
      "3   4            4.6           3.1            1.5           0.2  Iris-setosa\n",
      "4   5            5.0           3.6            1.4           0.2  Iris-setosa\n",
      "               Id  SepalLengthCm  SepalWidthCm  PetalLengthCm  PetalWidthCm\n",
      "count  150.000000     150.000000    150.000000     150.000000    150.000000\n",
      "mean    75.500000       5.843333      3.054000       3.758667      1.198667\n",
      "std     43.445368       0.828066      0.433594       1.764420      0.763161\n",
      "min      1.000000       4.300000      2.000000       1.000000      0.100000\n",
      "25%     38.250000       5.100000      2.800000       1.600000      0.300000\n",
      "50%     75.500000       5.800000      3.000000       4.350000      1.300000\n",
      "75%    112.750000       6.400000      3.300000       5.100000      1.800000\n",
      "max    150.000000       7.900000      4.400000       6.900000      2.500000\n",
      "150\n",
      "3\n"
     ]
    }
   ],
   "source": [
    "import pandas as pd\n",
    "\n",
    "read_data = pd.read_csv(\"iris.csv\")\n",
    "print(read_data.head())\n",
    "print(read_data.describe())\n",
    "print(len(read_data))\n",
    "print(len(read_data[\"Species\"].unique()))"
   ]
  },
  {
   "cell_type": "code",
   "execution_count": null,
   "metadata": {},
   "outputs": [
    {
     "name": "stdout",
     "output_type": "stream",
     "text": [
      "Accuracy: 0.86\n",
      "Precision: 0.88\n",
      "Recall: 0.86\n",
      "F1 Score: 0.86\n"
     ]
    }
   ],
   "source": [
    "import pandas as pd\n",
    "import torch\n",
    "from sklearn.model_selection import train_test_split\n",
    "from sklearn.preprocessing import LabelEncoder, StandardScaler\n",
    "from sklearn.metrics import accuracy_score, precision_score, recall_score, f1_score\n",
    "from torch.utils.data import TensorDataset, DataLoader\n",
    "\n",
    "df = pd.read_csv('Iris.csv')\n",
    "xDf = df.iloc[:, 1:-1].values\n",
    "scaler = StandardScaler()\n",
    "xDf = scaler.fit_transform(xDf)\n",
    "yDf = df.iloc[:, -1]\n",
    "encoder = LabelEncoder()\n",
    "yDf = encoder.fit_transform(yDf)\n",
    "xTensor = torch.tensor(xDf, dtype=torch.float32, device=\"cpu\")\n",
    "yTensor = torch.tensor(yDf, dtype=torch.long, device=\"cpu\")\n",
    "trainXTensor, testXTensor, trainYTensor, testYTensor = train_test_split(xTensor, yTensor, test_size = 0.33, stratify=yTensor)\n",
    "trainDataset = TensorDataset(trainXTensor, trainYTensor)\n",
    "testDataset = TensorDataset(testXTensor, testYTensor)\n",
    "train_loader = DataLoader(trainDataset, batch_size = 16, shuffle=True)\n",
    "test_loader = DataLoader(testDataset, batch_size = 16, shuffle=False)\n",
    "\n",
    "class NeuralNetworkSample(torch.nn.Module):\n",
    "    def __init__(self):\n",
    "        super(NeuralNetworkSample, self).__init__()\n",
    "        self.layer1 = torch.nn.Linear(4, 4)\n",
    "        self.layer2 = torch.nn.Linear(4,3)\n",
    "    def forward(self, x):\n",
    "        x = self.layer1(x)\n",
    "        x = torch.nn.functional.relu(x)\n",
    "        x = self.layer2(x)\n",
    "        return x\n",
    "\n",
    "model = NeuralNetworkSample()\n",
    "criterion = torch.nn.CrossEntropyLoss()\n",
    "optimizer = torch.optim.Adam(model.parameters(), lr = 0.001)\n",
    "epoch = 100\n",
    "for iter in range(epoch):\n",
    "    for inputs,labels in train_loader:\n",
    "        optimizer.zero_grad()\n",
    "        outputs=model(inputs)\n",
    "        loss = criterion(outputs, labels)\n",
    "        loss.backward()\n",
    "        optimizer.step()\n",
    "    \n",
    "    if (epoch+1)%2 == 0:\n",
    "        print(f'Epoch {epoch+1}, Loss: {loss.item() :.4f}')\n",
    "model.eval()\n",
    "predictions = []\n",
    "labels_list = []\n",
    "with torch.no_grad():\n",
    "    correct = 0\n",
    "    total = 0\n",
    "    for inputs, labels in test_loader:\n",
    "        outputs=model(inputs)\n",
    "        _, predicted = torch.max(outputs.data, 1)\n",
    "        predictions.extend(predicted.numpy())\n",
    "        labels_list.extend(labels.numpy())\n",
    "\n",
    "accuracy = accuracy_score(labels_list, predictions)\n",
    "precision = precision_score(labels_list, predictions, average='macro')\n",
    "recall = recall_score(labels_list, predictions, average='macro')\n",
    "f1 = f1_score(labels_list, predictions, average='macro')\n",
    "print(f'Accuracy: {accuracy:.2f}')\n",
    "print(f'Precision: {precision:.2f}')\n",
    "print(f'Recall: {recall:.2f}')\n",
    "print(f'F1 Score: {f1:.2f}')"
   ]
  },
  {
   "cell_type": "code",
   "execution_count": null,
   "metadata": {},
   "outputs": [],
   "source": []
  }
 ],
 "metadata": {
  "kernelspec": {
   "display_name": "base",
   "language": "python",
   "name": "python3"
  },
  "language_info": {
   "codemirror_mode": {
    "name": "ipython",
    "version": 3
   },
   "file_extension": ".py",
   "mimetype": "text/x-python",
   "name": "python",
   "nbconvert_exporter": "python",
   "pygments_lexer": "ipython3",
   "version": "3.9.12"
  }
 },
 "nbformat": 4,
 "nbformat_minor": 2
}
